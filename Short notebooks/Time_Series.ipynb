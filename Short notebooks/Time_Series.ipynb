{
 "cells": [
  {
   "cell_type": "markdown",
   "metadata": {
    "id": "4Wn7y6RShFV8"
   },
   "source": [
    "# TP10 - Time Series Tutorial\n",
    "Duarte Balata(46304) and Miguel Oliveira (55772)\n",
    "\n",
    "### Persistence model"
   ]
  },
  {
   "cell_type": "markdown",
   "metadata": {},
   "source": [
    "We start by importing all the required modules and libraries."
   ]
  },
  {
   "cell_type": "code",
   "execution_count": 20,
   "metadata": {
    "id": "4ZS8mJl99m4Y"
   },
   "outputs": [],
   "source": [
    "import warnings\n",
    "warnings.filterwarnings('ignore')\n",
    "from pandas import DataFrame\n",
    "from pandas import Series\n",
    "from pandas import concat\n",
    "from pandas import read_csv\n",
    "from pandas import datetime\n",
    "from sklearn.metrics import mean_squared_error\n",
    "from sklearn.preprocessing import MinMaxScaler\n",
    "from keras.models import Sequential\n",
    "from keras.layers import Dense\n",
    "from math import sqrt\n",
    "import matplotlib\n",
    "# be able to save images on server\n",
    "matplotlib.use('Agg')\n",
    "from matplotlib import pyplot\n",
    "import numpy\n",
    "\n",
    "%matplotlib inline"
   ]
  },
  {
   "cell_type": "markdown",
   "metadata": {},
   "source": [
    "We then define the function to perform the tasks shown on the tutorial."
   ]
  },
  {
   "cell_type": "code",
   "execution_count": 21,
   "metadata": {},
   "outputs": [],
   "source": [
    "# date-time parsing function for loading the dataset\n",
    "def parser(x):\n",
    "    return datetime.strptime(x, '%Y-%m')\n",
    "\n",
    "# frame a sequence as a supervised learning problem\n",
    "def timeseries_to_supervised(data, lag=1):\n",
    "    df = DataFrame(data)\n",
    "    columns = [df.shift(i) for i in range(1, lag+1)]\n",
    "    columns.append(df)\n",
    "    df = concat(columns, axis=1)\n",
    "    return df\n",
    "\n",
    "# create a differenced series\n",
    "def difference(dataset, interval=1):\n",
    "    diff = list()\n",
    "    for i in range(interval, len(dataset)):\n",
    "        value = dataset[i] - dataset[i - interval]\n",
    "        diff.append(value)\n",
    "    return Series(diff)\n",
    "\n",
    "# invert differenced value\n",
    "def inverse_difference(history, yhat, interval=1):\n",
    "    return yhat + history[-interval]\n",
    "\n",
    "# scale train and test data to [-1, 1]\n",
    "def scale(train, test):\n",
    "    # fit scaler\n",
    "    scaler = MinMaxScaler(feature_range=(-1, 1))\n",
    "    scaler = scaler.fit(train)\n",
    "    # transform train\n",
    "    train = train.reshape(train.shape[0], train.shape[1])\n",
    "    train_scaled = scaler.transform(train)\n",
    "    # transform test\n",
    "    test = test.reshape(test.shape[0], test.shape[1])\n",
    "    test_scaled = scaler.transform(test)\n",
    "    return scaler, train_scaled, test_scaled\n",
    "\n",
    "# inverse scaling for a forecasted value\n",
    "def invert_scale(scaler, X, yhat):\n",
    "    new_row = [x for x in X] + [yhat]\n",
    "    array = numpy.array(new_row)\n",
    "    array = array.reshape(1, len(array))\n",
    "    inverted = scaler.inverse_transform(array)\n",
    "    return inverted[0, -1]\n",
    "\n",
    "# fit an MLP network to training data\n",
    "def fit_model(train, batch_size, nb_epoch, neurons):\n",
    "    X, y = train[:, 0:-1], train[:, -1]\n",
    "    model = Sequential()\n",
    "    model.add(Dense(neurons, activation='relu', input_dim=X.shape[1]))\n",
    "    model.add(Dense(1))\n",
    "    model.compile(loss='mean_squared_error', optimizer='adam')\n",
    "    model.fit(X, y, epochs=nb_epoch, batch_size=batch_size, verbose=0, shuffle=False)\n",
    "    return model\n",
    "\n",
    "# run a repeated experiment\n",
    "def experiment(repeats, series, epochs, lag, neurons):\n",
    "    # transform data to be stationary\n",
    "    raw_values = series.values\n",
    "    diff_values = difference(raw_values, 1)\n",
    "    # transform data to be supervised learning\n",
    "    supervised = timeseries_to_supervised(diff_values, lag)\n",
    "    supervised_values = supervised.values[lag:,:]\n",
    "    # split data into train and test-sets\n",
    "    train, test = supervised_values[0:-12], supervised_values[-12:]\n",
    "    # transform the scale of the data\n",
    "    scaler, train_scaled, test_scaled = scale(train, test)\n",
    "    # run experiment\n",
    "    error_scores = list()\n",
    "    for r in range(repeats):\n",
    "        # fit the model\n",
    "        batch_size = 4\n",
    "        train_trimmed = train_scaled[2:, :]\n",
    "        model = fit_model(train_trimmed, batch_size, epochs, neurons)\n",
    "        # forecast test dataset\n",
    "        test_reshaped = test_scaled[:,0:-1]\n",
    "        output = model.predict(test_reshaped, batch_size=batch_size)\n",
    "        predictions = list()\n",
    "        for i in range(len(output)):\n",
    "            yhat = output[i,0]\n",
    "            X = test_scaled[i, 0:-1]\n",
    "            # invert scaling\n",
    "            yhat = invert_scale(scaler, X, yhat)\n",
    "            # invert differencing\n",
    "            yhat = inverse_difference(raw_values, yhat, len(test_scaled)+1-i)\n",
    "            # store forecast\n",
    "            predictions.append(yhat)\n",
    "        # report performance\n",
    "        rmse = sqrt(mean_squared_error(raw_values[-12:], predictions))\n",
    "        print('%d) Test RMSE: %.3f' % (r+1, rmse))\n",
    "        error_scores.append(rmse)\n",
    "    return error_scores"
   ]
  },
  {
   "cell_type": "markdown",
   "metadata": {},
   "source": [
    "We import the dataset, split the data into train and test sets, then we define the persistence model in order to make a forecast and establish a baseline performance for timeseries prediction."
   ]
  },
  {
   "cell_type": "code",
   "execution_count": 22,
   "metadata": {
    "colab": {
     "base_uri": "https://localhost:8080/",
     "height": 232
    },
    "id": "PexRhd0CYgsi",
    "outputId": "e1fca8f6-a9d0-442a-8aeb-99f6e3070e8a"
   },
   "outputs": [
    {
     "name": "stdout",
     "output_type": "stream",
     "text": [
      "       t-1    t+1\n",
      "0      NaN   6550\n",
      "1   6550.0   8728\n",
      "2   8728.0  12026\n",
      "3  12026.0  14395\n",
      "4  14395.0  14587\n",
      "Test MSE: 13356460.486\n"
     ]
    }
   ],
   "source": [
    "path = 'https://raw.githubusercontent.com/jbrownlee/Datasets/master/monthly-car-sales.csv'\n",
    " \n",
    "def parser(x):\n",
    "    return datetime.strptime(x, '%Y-%m')\n",
    " \n",
    "series = read_csv(path, header=0, parse_dates=[0], index_col=0, squeeze=True, date_parser=parser)\n",
    "# Create lagged dataset\n",
    "values = DataFrame(series.values)\n",
    "dataframe = concat([values.shift(1), values], axis=1)\n",
    "dataframe.columns = ['t-1', 't+1']\n",
    "print(dataframe.head(5))\n",
    " \n",
    "# split into train and test sets\n",
    "X = dataframe.values\n",
    "train_size = int(len(X) * 0.66)\n",
    "train, test = X[1:train_size], X[train_size:]\n",
    "train_X, train_y = train[:,0], train[:,1]\n",
    "test_X, test_y = test[:,0], test[:,1]\n",
    " \n",
    "# persistence model\n",
    "def model_persistence(x):\n",
    "    return x\n",
    " \n",
    "# walk-forward validation\n",
    "predictions = list()\n",
    "for x in test_X:\n",
    "    yhat = model_persistence(x)\n",
    "    predictions.append(yhat)\n",
    "test_score = mean_squared_error(test_y, predictions)\n",
    "print('Test MSE: %.3f' % test_score)"
   ]
  },
  {
   "cell_type": "code",
   "execution_count": 24,
   "metadata": {},
   "outputs": [
    {
     "name": "stdout",
     "output_type": "stream",
     "text": [
      "Test RMSE: 3654.649\n"
     ]
    }
   ],
   "source": [
    "print('Test RMSE: %.3f' % sqrt(test_score))"
   ]
  },
  {
   "cell_type": "markdown",
   "metadata": {},
   "source": [
    "Then a plot is created to highlight the difference between the actual time series (orange) and the predicted values (green) from the baseline model, which will be 1 step behind reality."
   ]
  },
  {
   "cell_type": "code",
   "execution_count": 4,
   "metadata": {},
   "outputs": [
    {
     "data": {
      "image/png": "[encoded data removed]",
      "text/plain": [
       "<Figure size 432x288 with 1 Axes>"
      ]
     },
     "metadata": {
      "needs_background": "light"
     },
     "output_type": "display_data"
    }
   ],
   "source": [
    "# plot predictions and expected results\n",
    "pyplot.plot(train_y)\n",
    "pyplot.plot([None for i in train_y] + [x for x in test_y])\n",
    "pyplot.plot([None for i in train_y] + [x for x in predictions])\n",
    "pyplot.show()"
   ]
  },
  {
   "cell_type": "markdown",
   "metadata": {},
   "source": [
    "This baseline model can be used as a point of reference for all other modeling techniques on the problem. If a more complex model achieves a performance below the one on the baseline model, the technique should then be tuned or abandoned."
   ]
  },
  {
   "cell_type": "markdown",
   "metadata": {
    "id": "t7YG00ZZhW_V"
   },
   "source": [
    "## Focused time-lagged feedforward network (FTLFN)"
   ]
  },
  {
   "cell_type": "markdown",
   "metadata": {},
   "source": [
    "We then defined the required functions to implement the Focused time-lagged feedforward network and run the model 10 times, with a single neuron on the hidden for 500 epochs."
   ]
  },
  {
   "cell_type": "code",
   "execution_count": 5,
   "metadata": {
    "colab": {
     "base_uri": "https://localhost:8080/"
    },
    "id": "8OjYif1YhVKR",
    "outputId": "1595c10b-3048-4b58-810d-5f1d49a939fa"
   },
   "outputs": [
    {
     "name": "stdout",
     "output_type": "stream",
     "text": [
      "0) TrainRMSE = 3201.327517, TestRMSE = 3684.280254\n",
      "1) TrainRMSE = 3273.857564, TestRMSE = 3895.230412\n",
      "2) TrainRMSE = 3273.457442, TestRMSE = 3881.282036\n",
      "3) TrainRMSE = 3201.349668, TestRMSE = 3684.174579\n",
      "4) TrainRMSE = 3269.975300, TestRMSE = 3899.787881\n",
      "5) TrainRMSE = 3233.449382, TestRMSE = 3918.292977\n",
      "6) TrainRMSE = 3229.878872, TestRMSE = 3936.226982\n",
      "7) TrainRMSE = 3201.354171, TestRMSE = 3684.187840\n",
      "8) TrainRMSE = 3201.332186, TestRMSE = 3684.270534\n",
      "9) TrainRMSE = 3201.327617, TestRMSE = 3684.297254\n"
     ]
    },
    {
     "data": {
      "image/png": "[encoded data removed]",
      "text/plain": [
       "<Figure size 432x288 with 1 Axes>"
      ]
     },
     "metadata": {
      "needs_background": "light"
     },
     "output_type": "display_data"
    }
   ],
   "source": [
    "# date-time parsing function for loading the dataset\n",
    "def parser(x):\n",
    "    return datetime.strptime(x, '%Y-%m')\n",
    " \n",
    "# frame a sequence as a supervised learning problem\n",
    "def timeseries_to_supervised(data, lag=1):\n",
    "    df = DataFrame(data)\n",
    "    columns = [df.shift(i) for i in range(1, lag+1)]\n",
    "    columns.append(df)\n",
    "    df = concat(columns, axis=1)\n",
    "    df = df.drop(0)\n",
    "    return df\n",
    " \n",
    "# create a differenced series\n",
    "def difference(dataset, interval=1):\n",
    "    diff = list()\n",
    "    for i in range(interval, len(dataset)):\n",
    "        value = dataset[i] - dataset[i - interval]\n",
    "        diff.append(value)\n",
    "    return Series(diff)\n",
    " \n",
    "# scale train and test data to [-1, 1]\n",
    "def scale(train, test):\n",
    "    # fit scaler\n",
    "    scaler = MinMaxScaler(feature_range=(-1, 1))\n",
    "    scaler = scaler.fit(train)\n",
    "    # transform train\n",
    "    train = train.reshape(train.shape[0], train.shape[1])\n",
    "    train_scaled = scaler.transform(train)\n",
    "    # transform test\n",
    "    test = test.reshape(test.shape[0], test.shape[1])\n",
    "    test_scaled = scaler.transform(test)\n",
    "    return scaler, train_scaled, test_scaled\n",
    " \n",
    "# inverse scaling for a forecasted value\n",
    "def invert_scale(scaler, X, yhat):\n",
    "    new_row = [x for x in X] + [yhat]\n",
    "    array = numpy.array(new_row)\n",
    "    array = array.reshape(1, len(array))\n",
    "    inverted = scaler.inverse_transform(array)\n",
    "    return inverted[0, -1]\n",
    " \n",
    "# evaluate the model on a dataset, returns RMSE in transformed units\n",
    "def evaluate(model, raw_data, scaled_dataset, scaler, offset, batch_size):\n",
    "    # separate\n",
    "    X, y = scaled_dataset[:,0:-1], scaled_dataset[:,-1]\n",
    "    # forecast dataset\n",
    "    output = model.predict(X, batch_size=batch_size)\n",
    "    # invert data transforms on forecast\n",
    "    predictions = list()\n",
    "    for i in range(len(output)):\n",
    "        yhat = output[i,0]\n",
    "        # invert scaling\n",
    "        yhat = invert_scale(scaler, X[i], yhat)\n",
    "        # invert differencing\n",
    "        yhat = yhat + raw_data[i]\n",
    "        # store forecast\n",
    "        predictions.append(yhat)\n",
    "    # report performance\n",
    "    rmse = sqrt(mean_squared_error(raw_data[1:], predictions))\n",
    "    return rmse\n",
    " \n",
    "# fit an MLP network to training data\n",
    "def fit(train, test, raw, scaler, batch_size, nb_epoch, neurons):\n",
    "    X, y = train[:, 0:-1], train[:, -1]\n",
    "    # prepare model\n",
    "    model = Sequential()\n",
    "    model.add(Dense(neurons, activation='relu', input_dim=X.shape[1]))\n",
    "    model.add(Dense(1))\n",
    "    model.compile(loss='mean_squared_error', optimizer='adam')\n",
    "    # fit model\n",
    "    train_rmse, test_rmse = list(), list()\n",
    "    for i in range(nb_epoch):\n",
    "        model.fit(X, y, epochs=1, batch_size=batch_size, verbose=0, shuffle=False)\n",
    "        # evaluate model on train data\n",
    "        raw_train = raw[-(len(train)+len(test)+1):-len(test)]\n",
    "        train_rmse.append(evaluate(model, raw_train, train, scaler, 0, batch_size))\n",
    "        # evaluate model on test data\n",
    "        raw_test = raw[-(len(test)+1):]\n",
    "        test_rmse.append(evaluate(model, raw_test, test, scaler, 0, batch_size))\n",
    "    history = DataFrame()\n",
    "    history['train'], history['test'] = train_rmse, test_rmse\n",
    "    return history\n",
    " \n",
    "# run diagnostic experiments\n",
    "def run():\n",
    "    # config\n",
    "    repeats = 10\n",
    "    n_batch = 4\n",
    "    n_epochs = 500\n",
    "    n_neurons = 1\n",
    "    n_lag = 1\n",
    "    # load dataset\n",
    "    series = read_csv(path, header=0, parse_dates=[0], index_col=0, squeeze=True, date_parser=parser)\n",
    "    # transform data to be stationary\n",
    "    raw_values = series.values\n",
    "    diff_values = difference(raw_values, 1)\n",
    "    # transform data to be supervised learning\n",
    "    supervised = timeseries_to_supervised(diff_values, n_lag)\n",
    "    supervised_values = supervised.values[n_lag:,:]\n",
    "    # split data into train and test-sets\n",
    "    train, test = supervised_values[0:-12], supervised_values[-12:]\n",
    "    # transform the scale of the data\n",
    "    scaler, train_scaled, test_scaled = scale(train, test)\n",
    "    # fit and evaluate model\n",
    "    train_trimmed = train_scaled[2:, :]\n",
    "    # run diagnostic tests\n",
    "    for i in range(repeats):\n",
    "        history = fit(train_trimmed, test_scaled, raw_values, scaler, n_batch, n_epochs, n_neurons)\n",
    "        pyplot.plot(history['train'], color='blue')\n",
    "        pyplot.plot(history['test'], color='orange')\n",
    "        print('%d) TrainRMSE = %f, TestRMSE = %f' % (i, history['train'].iloc[-1], history['test'].iloc[-1]))\n",
    "    pyplot.savefig('diagnostic_epochs.png')\n",
    " \n",
    "# entry point\n",
    "run()"
   ]
  },
  {
   "cell_type": "markdown",
   "metadata": {
    "id": "E2TUw9bL6cJe"
   },
   "source": [
    "We can see that developed model already performed better than the baseline, indicating that it is making useful predictions (~3200 < 3655 RMSE). However, there are still adjustements that we can do to increase the performance.\n",
    "\n",
    "The rapid leveling of both RMSE of the train and test curves suggest that the model could benefit from additional lags observations to the data or more neurons. We will first start by experimenting with the number of neurons."
   ]
  },
  {
   "cell_type": "markdown",
   "metadata": {
    "id": "zSXl7B8-6v0Z"
   },
   "source": [
    "## Vary Hidden Layer Neurons"
   ]
  },
  {
   "cell_type": "markdown",
   "metadata": {
    "id": "DhxyKXhz7DlJ"
   },
   "source": [
    "Adding neurons will increase learning capacity at a cost of possible overfitting - we will test with adding neurons to a hidden layer with 500 epochs and evaluate the results"
   ]
  },
  {
   "cell_type": "code",
   "execution_count": 6,
   "metadata": {
    "colab": {
     "base_uri": "https://localhost:8080/",
     "height": 1000
    },
    "id": "BMYgmtos8Rjl",
    "outputId": "4ef6b29b-efb4-42f6-cb5c-b9807c9a5f92"
   },
   "outputs": [
    {
     "name": "stdout",
     "output_type": "stream",
     "text": [
      "Neurons: 1\n",
      "1) Test RMSE: 3784.122\n",
      "2) Test RMSE: 3683.936\n",
      "3) Test RMSE: 3784.122\n",
      "4) Test RMSE: 3783.852\n",
      "5) Test RMSE: 3784.122\n",
      "6) Test RMSE: 3942.221\n",
      "7) Test RMSE: 3879.020\n",
      "8) Test RMSE: 3784.122\n",
      "9) Test RMSE: 3784.122\n",
      "10) Test RMSE: 3684.360\n",
      "11) Test RMSE: 3684.218\n",
      "12) Test RMSE: 3684.281\n",
      "13) Test RMSE: 3684.232\n",
      "14) Test RMSE: 3684.212\n",
      "15) Test RMSE: 3783.893\n",
      "16) Test RMSE: 3684.147\n",
      "17) Test RMSE: 3942.393\n",
      "18) Test RMSE: 3881.654\n",
      "19) Test RMSE: 3872.744\n",
      "20) Test RMSE: 3684.359\n",
      "21) Test RMSE: 3684.136\n",
      "22) Test RMSE: 3877.676\n",
      "23) Test RMSE: 3783.889\n",
      "24) Test RMSE: 3783.852\n",
      "25) Test RMSE: 3909.459\n",
      "26) Test RMSE: 3878.391\n",
      "27) Test RMSE: 3684.240\n",
      "28) Test RMSE: 3783.884\n",
      "29) Test RMSE: 3684.237\n",
      "30) Test RMSE: 3878.231\n",
      "Neurons: 2\n",
      "1) Test RMSE: 3722.399\n",
      "2) Test RMSE: 3783.852\n",
      "3) Test RMSE: 3878.888\n",
      "4) Test RMSE: 3722.304\n",
      "5) Test RMSE: 3881.156\n",
      "6) Test RMSE: 3731.778\n",
      "7) Test RMSE: 3891.411\n",
      "8) Test RMSE: 3941.090\n",
      "9) Test RMSE: 3898.148\n",
      "10) Test RMSE: 3937.840\n",
      "11) Test RMSE: 3682.822\n",
      "12) Test RMSE: 3783.853\n",
      "13) Test RMSE: 3766.605\n",
      "14) Test RMSE: 3730.820\n",
      "15) Test RMSE: 3683.894\n",
      "16) Test RMSE: 3756.421\n",
      "17) Test RMSE: 3684.021\n",
      "18) Test RMSE: 3825.242\n",
      "19) Test RMSE: 3667.335\n",
      "20) Test RMSE: 3783.926\n",
      "21) Test RMSE: 3721.740\n",
      "22) Test RMSE: 3683.955\n",
      "23) Test RMSE: 3721.649\n",
      "24) Test RMSE: 3659.071\n",
      "25) Test RMSE: 3727.846\n",
      "26) Test RMSE: 3684.264\n",
      "27) Test RMSE: 3760.780\n",
      "28) Test RMSE: 3671.634\n",
      "29) Test RMSE: 3729.920\n",
      "30) Test RMSE: 3650.232\n",
      "Neurons: 3\n",
      "1) Test RMSE: 3728.160\n",
      "2) Test RMSE: 3924.437\n",
      "3) Test RMSE: 3749.097\n",
      "4) Test RMSE: 3870.625\n",
      "5) Test RMSE: 3684.161\n",
      "6) Test RMSE: 3783.900\n",
      "7) Test RMSE: 3684.219\n",
      "8) Test RMSE: 3748.261\n",
      "9) Test RMSE: 3665.775\n",
      "10) Test RMSE: 3756.992\n",
      "11) Test RMSE: 3943.873\n",
      "12) Test RMSE: 3728.844\n",
      "13) Test RMSE: 3684.205\n",
      "14) Test RMSE: 3657.562\n",
      "15) Test RMSE: 3692.011\n",
      "16) Test RMSE: 3899.665\n",
      "17) Test RMSE: 3682.758\n",
      "18) Test RMSE: 3655.726\n",
      "19) Test RMSE: 3729.917\n",
      "20) Test RMSE: 3783.912\n",
      "21) Test RMSE: 3987.650\n",
      "22) Test RMSE: 3764.336\n",
      "23) Test RMSE: 3854.764\n",
      "24) Test RMSE: 3876.259\n",
      "25) Test RMSE: 3706.936\n",
      "26) Test RMSE: 3740.266\n",
      "27) Test RMSE: 3783.852\n",
      "28) Test RMSE: 3720.852\n",
      "29) Test RMSE: 3723.448\n",
      "30) Test RMSE: 3709.547\n",
      "Neurons: 4\n",
      "1) Test RMSE: 3869.499\n",
      "2) Test RMSE: 3874.339\n",
      "3) Test RMSE: 3749.292\n",
      "4) Test RMSE: 3860.299\n",
      "5) Test RMSE: 3683.352\n",
      "6) Test RMSE: 3683.150\n",
      "7) Test RMSE: 3733.629\n",
      "8) Test RMSE: 3943.135\n",
      "9) Test RMSE: 3736.050\n",
      "10) Test RMSE: 3837.116\n",
      "11) Test RMSE: 3678.223\n",
      "12) Test RMSE: 3868.914\n",
      "13) Test RMSE: 3870.002\n",
      "14) Test RMSE: 3722.457\n",
      "15) Test RMSE: 3692.197\n",
      "16) Test RMSE: 3679.486\n",
      "17) Test RMSE: 3724.464\n",
      "18) Test RMSE: 3806.953\n",
      "19) Test RMSE: 3701.691\n",
      "20) Test RMSE: 3854.622\n",
      "21) Test RMSE: 3717.397\n",
      "22) Test RMSE: 3704.260\n",
      "23) Test RMSE: 3711.222\n",
      "24) Test RMSE: 3723.772\n",
      "25) Test RMSE: 3696.504\n",
      "26) Test RMSE: 3713.670\n",
      "27) Test RMSE: 3666.098\n",
      "28) Test RMSE: 3712.919\n",
      "29) Test RMSE: 3873.590\n",
      "30) Test RMSE: 3663.781\n",
      "Neurons: 5\n",
      "1) Test RMSE: 3809.983\n",
      "2) Test RMSE: 3822.066\n",
      "3) Test RMSE: 3663.501\n",
      "4) Test RMSE: 3894.261\n",
      "5) Test RMSE: 3715.139\n",
      "6) Test RMSE: 3714.488\n",
      "7) Test RMSE: 3667.809\n",
      "8) Test RMSE: 3668.999\n",
      "9) Test RMSE: 3711.491\n",
      "10) Test RMSE: 3755.940\n",
      "11) Test RMSE: 3724.765\n",
      "12) Test RMSE: 3704.218\n",
      "13) Test RMSE: 3717.481\n",
      "14) Test RMSE: 3783.890\n",
      "15) Test RMSE: 3729.176\n",
      "16) Test RMSE: 3720.883\n",
      "17) Test RMSE: 3677.391\n",
      "18) Test RMSE: 3670.713\n",
      "19) Test RMSE: 3691.714\n",
      "20) Test RMSE: 3708.067\n",
      "21) Test RMSE: 3685.309\n",
      "22) Test RMSE: 3832.599\n",
      "23) Test RMSE: 3725.396\n",
      "24) Test RMSE: 3769.301\n",
      "25) Test RMSE: 3804.073\n",
      "26) Test RMSE: 3723.081\n",
      "27) Test RMSE: 3721.073\n",
      "28) Test RMSE: 3831.094\n",
      "29) Test RMSE: 3726.444\n",
      "30) Test RMSE: 3714.207\n"
     ]
    }
   ],
   "source": [
    "# load dataset\n",
    "series = read_csv(path, header=0, parse_dates=[0], index_col=0, squeeze=True, date_parser=parser)\n",
    "# experiment\n",
    "repeats = 30\n",
    "results = DataFrame()\n",
    "lag = 1\n",
    "epochs = 500\n",
    "# vary neurons\n",
    "neurons = [1, 2, 3, 4, 5]\n",
    "for n in neurons:\n",
    "    print(\"Neurons:\", n)\n",
    "    results[str(n)] = experiment(repeats, series, epochs, lag, n)"
   ]
  },
  {
   "cell_type": "code",
   "execution_count": 7,
   "metadata": {},
   "outputs": [
    {
     "name": "stdout",
     "output_type": "stream",
     "text": [
      "                 1            2            3            4            5\n",
      "count    30.000000    30.000000    30.000000    30.000000    30.000000\n",
      "mean   3780.937611  3758.829867  3764.067004  3758.402738  3736.151839\n",
      "std      88.690656    85.621004    90.591111    81.925795    57.673287\n",
      "min    3683.935845  3650.231665  3655.725759  3663.781131  3663.500872\n",
      "25%    3684.250405  3684.081512  3695.742223  3697.800779  3705.180483\n",
      "50%    3783.891054  3730.369762  3735.091754  3723.114402  3720.977983\n",
      "75%    3876.442912  3783.907707  3783.909012  3850.245252  3765.960766\n",
      "max    3942.393460  3941.090080  3987.649869  3943.134773  3894.261180\n"
     ]
    },
    {
     "data": {
      "text/plain": [
       "<AxesSubplot:>"
      ]
     },
     "execution_count": 7,
     "metadata": {},
     "output_type": "execute_result"
    },
    {
     "data": {
      "image/png": "[encoded data removed]",
      "text/plain": [
       "<Figure size 432x288 with 1 Axes>"
      ]
     },
     "metadata": {
      "needs_background": "light"
     },
     "output_type": "display_data"
    }
   ],
   "source": [
    "# summarize results\n",
    "print(results.describe())\n",
    "# save boxplot\n",
    "results.boxplot()"
   ]
  },
  {
   "cell_type": "markdown",
   "metadata": {
    "id": "Gu6ry9YzGr9h"
   },
   "source": [
    "Based on the output above - 5 neurons presented the best average result, therefore we will begin experimenting by adding 5 neurons to the hidden layer."
   ]
  },
  {
   "cell_type": "code",
   "execution_count": 9,
   "metadata": {
    "colab": {
     "background_save": true,
     "base_uri": "https://localhost:8080/"
    },
    "id": "m-F1s6Lx7LLu",
    "outputId": "8033b4ea-d106-4564-e9a8-87f65d988fdc"
   },
   "outputs": [
    {
     "name": "stdout",
     "output_type": "stream",
     "text": [
      "0) TrainRMSE = 3134.223789, TestRMSE = 3795.730141\n",
      "1) TrainRMSE = 3158.119787, TestRMSE = 3716.337859\n",
      "2) TrainRMSE = 3122.657084, TestRMSE = 3815.295523\n",
      "3) TrainRMSE = 3195.273314, TestRMSE = 3714.863595\n",
      "4) TrainRMSE = 3193.031682, TestRMSE = 3714.250433\n",
      "5) TrainRMSE = 3147.423597, TestRMSE = 3858.827083\n",
      "6) TrainRMSE = 3124.090803, TestRMSE = 3804.194621\n",
      "7) TrainRMSE = 3136.601445, TestRMSE = 3790.759412\n",
      "8) TrainRMSE = 3195.709369, TestRMSE = 3701.847571\n",
      "9) TrainRMSE = 3193.329945, TestRMSE = 3725.536334\n"
     ]
    },
    {
     "data": {
      "image/png": "[encoded data removed]",
      "text/plain": [
       "<Figure size 432x288 with 1 Axes>"
      ]
     },
     "metadata": {
      "needs_background": "light"
     },
     "output_type": "display_data"
    }
   ],
   "source": [
    "# run diagnostic experiments\n",
    "def run():\n",
    "    # config\n",
    "    repeats = 10\n",
    "    n_batch = 4\n",
    "    n_epochs = 500\n",
    "    n_neurons = 5\n",
    "    n_lag = 1\n",
    "    # load dataset\n",
    "    series = read_csv(path, header=0, parse_dates=[0], index_col=0, squeeze=True, date_parser=parser)\n",
    "    # transform data to be stationary\n",
    "    raw_values = series.values\n",
    "    diff_values = difference(raw_values, 1)\n",
    "    # transform data to be supervised learning\n",
    "    supervised = timeseries_to_supervised(diff_values, n_lag)\n",
    "    supervised_values = supervised.values[n_lag:,:]\n",
    "    # split data into train and test-sets\n",
    "    train, test = supervised_values[0:-12], supervised_values[-12:]\n",
    "    # transform the scale of the data\n",
    "    scaler, train_scaled, test_scaled = scale(train, test)\n",
    "    # fit and evaluate model\n",
    "    train_trimmed = train_scaled[2:, :]\n",
    "    # run diagnostic tests\n",
    "    for i in range(repeats):\n",
    "        history = fit(train_trimmed, test_scaled, raw_values, scaler, n_batch, n_epochs, n_neurons)\n",
    "        pyplot.plot(history['train'], color='blue')\n",
    "        pyplot.plot(history['test'], color='orange')\n",
    "        print('%d) TrainRMSE = %f, TestRMSE = %f' % (i, history['train'].iloc[-1], history['test'].iloc[-1]))\n",
    "    pyplot.savefig('diagnostic_neurons.png')\n",
    " \n",
    " # entry point\n",
    "run()"
   ]
  },
  {
   "cell_type": "markdown",
   "metadata": {},
   "source": [
    "The plots look very similar in terms RMSE variation over the training epochs. Both lines flatten at about the same rate -also no clear signs of overfitting. However, by looking at the RMSE metrics values over the 10 repeats, we can see that the values improved comparatively to the first model with 1 neuron in the hidden layer.\n",
    "\n",
    "We then proceed to experiment with increasing the lag. "
   ]
  },
  {
   "cell_type": "markdown",
   "metadata": {
    "id": "1J53mDOTNuvF"
   },
   "source": [
    "## Vary Hidden Layer Neurons with Lag\n",
    "\n",
    "Please note that, increased the lag of the observations will increase the scale of the number of input neurons in the model accordingly (e.g. 3 lag observations as input will result in 3 input neurons). \n",
    "\n",
    "This, in turn, effects the total number of training patterns during the process of conversion of the time series data to a supervised learning problem. As per the tutorial, to mitigate this, the batch size was reduced from 4 to 2. We will maitain the experiments with 500 epochs."
   ]
  },
  {
   "cell_type": "code",
   "execution_count": 10,
   "metadata": {
    "colab": {
     "base_uri": "https://localhost:8080/"
    },
    "id": "Trqhhc8EOMj8",
    "outputId": "60d93399-13b8-4348-e6de-35291b7fa185"
   },
   "outputs": [
    {
     "name": "stdout",
     "output_type": "stream",
     "text": [
      "Neurons: 1\n",
      "1) Test RMSE: 3876.727\n",
      "2) Test RMSE: 3684.206\n",
      "3) Test RMSE: 3783.805\n",
      "4) Test RMSE: 3683.985\n",
      "5) Test RMSE: 3784.060\n",
      "6) Test RMSE: 3875.139\n",
      "7) Test RMSE: 3784.060\n",
      "8) Test RMSE: 3956.188\n",
      "9) Test RMSE: 3684.221\n",
      "10) Test RMSE: 3956.687\n",
      "11) Test RMSE: 3783.808\n",
      "12) Test RMSE: 3783.805\n",
      "13) Test RMSE: 3956.710\n",
      "14) Test RMSE: 3873.902\n",
      "15) Test RMSE: 3956.345\n",
      "16) Test RMSE: 3783.805\n",
      "17) Test RMSE: 3877.091\n",
      "18) Test RMSE: 3783.805\n",
      "19) Test RMSE: 3784.060\n",
      "20) Test RMSE: 3784.060\n",
      "21) Test RMSE: 3878.390\n",
      "22) Test RMSE: 3683.938\n",
      "23) Test RMSE: 3683.660\n",
      "24) Test RMSE: 3684.060\n",
      "25) Test RMSE: 3878.087\n",
      "26) Test RMSE: 3683.960\n",
      "27) Test RMSE: 3783.805\n",
      "28) Test RMSE: 3783.805\n",
      "29) Test RMSE: 3955.702\n",
      "30) Test RMSE: 3783.805\n",
      "Neurons: 3\n",
      "1) Test RMSE: 3677.369\n",
      "2) Test RMSE: 3553.459\n",
      "3) Test RMSE: 4309.502\n",
      "4) Test RMSE: 3390.996\n",
      "5) Test RMSE: 3452.917\n",
      "6) Test RMSE: 3691.226\n",
      "7) Test RMSE: 3278.941\n",
      "8) Test RMSE: 3617.158\n",
      "9) Test RMSE: 3818.007\n",
      "10) Test RMSE: 3601.562\n",
      "11) Test RMSE: 3554.573\n",
      "12) Test RMSE: 3570.620\n",
      "13) Test RMSE: 3408.293\n",
      "14) Test RMSE: 3766.535\n",
      "15) Test RMSE: 3678.898\n",
      "16) Test RMSE: 3813.055\n",
      "17) Test RMSE: 3635.874\n",
      "18) Test RMSE: 3472.789\n",
      "19) Test RMSE: 3469.956\n",
      "20) Test RMSE: 3883.879\n",
      "21) Test RMSE: 4161.987\n",
      "22) Test RMSE: 3855.981\n",
      "23) Test RMSE: 3567.075\n",
      "24) Test RMSE: 3800.422\n",
      "25) Test RMSE: 3668.192\n",
      "26) Test RMSE: 3432.384\n",
      "27) Test RMSE: 4045.869\n",
      "28) Test RMSE: 3910.117\n",
      "29) Test RMSE: 5303.843\n",
      "30) Test RMSE: 3453.881\n",
      "Neurons: 5\n",
      "1) Test RMSE: 2517.245\n",
      "2) Test RMSE: 2903.621\n",
      "3) Test RMSE: 2384.404\n",
      "4) Test RMSE: 2677.823\n",
      "5) Test RMSE: 3020.918\n",
      "6) Test RMSE: 2514.233\n",
      "7) Test RMSE: 2821.077\n",
      "8) Test RMSE: 2824.217\n",
      "9) Test RMSE: 2708.259\n",
      "10) Test RMSE: 2827.028\n",
      "11) Test RMSE: 3189.408\n",
      "12) Test RMSE: 3244.069\n",
      "13) Test RMSE: 2570.387\n",
      "14) Test RMSE: 2574.282\n",
      "15) Test RMSE: 3393.916\n",
      "16) Test RMSE: 2300.514\n",
      "17) Test RMSE: 3012.543\n",
      "18) Test RMSE: 2815.285\n",
      "19) Test RMSE: 3379.475\n",
      "20) Test RMSE: 3514.829\n",
      "21) Test RMSE: 2967.526\n",
      "22) Test RMSE: 2916.382\n",
      "23) Test RMSE: 2434.284\n",
      "24) Test RMSE: 3094.822\n",
      "25) Test RMSE: 2867.189\n",
      "26) Test RMSE: 3030.916\n",
      "27) Test RMSE: 2888.459\n",
      "28) Test RMSE: 2922.517\n",
      "29) Test RMSE: 2312.095\n",
      "30) Test RMSE: 2343.539\n",
      "Neurons: 7\n",
      "1) Test RMSE: 3580.826\n",
      "2) Test RMSE: 2943.782\n",
      "3) Test RMSE: 3218.536\n",
      "4) Test RMSE: 2619.706\n",
      "5) Test RMSE: 2830.110\n",
      "6) Test RMSE: 2746.897\n",
      "7) Test RMSE: 3036.112\n",
      "8) Test RMSE: 2582.534\n",
      "9) Test RMSE: 3419.775\n",
      "10) Test RMSE: 2691.111\n",
      "11) Test RMSE: 3398.856\n",
      "12) Test RMSE: 3377.330\n",
      "13) Test RMSE: 2824.487\n",
      "14) Test RMSE: 3139.109\n",
      "15) Test RMSE: 2850.016\n",
      "16) Test RMSE: 2749.215\n",
      "17) Test RMSE: 3050.960\n",
      "18) Test RMSE: 3880.087\n",
      "19) Test RMSE: 3347.913\n",
      "20) Test RMSE: 3148.497\n",
      "21) Test RMSE: 2924.594\n",
      "22) Test RMSE: 2905.706\n",
      "23) Test RMSE: 3403.289\n",
      "24) Test RMSE: 3245.200\n",
      "25) Test RMSE: 3042.938\n",
      "26) Test RMSE: 2937.707\n",
      "27) Test RMSE: 3076.882\n",
      "28) Test RMSE: 2420.687\n",
      "29) Test RMSE: 2873.417\n",
      "30) Test RMSE: 2747.718\n",
      "                 1            3            5            7\n",
      "count    30.000000    30.000000    30.000000    30.000000\n",
      "mean   3807.856014  3728.178713  2832.375375  3033.799892\n",
      "std      93.369575   378.378987   328.203139   324.848099\n",
      "min    3683.659934  3278.941326  2300.513964  2420.686912\n",
      "25%    3783.804670  3492.956275  2571.360386  2825.892628\n",
      "50%    3783.934132  3652.032791  2847.108597  2989.946915\n",
      "75%    3876.999933  3816.769354  3018.824550  3238.534306\n",
      "max    3956.710318  5303.843008  3514.829179  3880.087388\n"
     ]
    },
    {
     "data": {
      "text/plain": [
       "<Figure size 432x288 with 0 Axes>"
      ]
     },
     "metadata": {},
     "output_type": "display_data"
    }
   ],
   "source": [
    "# run a repeated experiment\n",
    "def experiment(repeats, series, epochs, lag, neurons):\n",
    "    # transform data to be stationary\n",
    "    raw_values = series.values\n",
    "    diff_values = difference(raw_values, 1)\n",
    "    # transform data to be supervised learning\n",
    "    supervised = timeseries_to_supervised(diff_values, lag)\n",
    "    supervised_values = supervised.values[lag:,:]\n",
    "    # split data into train and test-sets\n",
    "    train, test = supervised_values[0:-12], supervised_values[-12:]\n",
    "    # transform the scale of the data\n",
    "    scaler, train_scaled, test_scaled = scale(train, test)\n",
    "    # run experiment\n",
    "    error_scores = list()\n",
    "    for r in range(repeats):\n",
    "        # fit the model\n",
    "        batch_size = 2\n",
    "        model = fit_model(train_scaled, batch_size, epochs, neurons)\n",
    "        # forecast test dataset\n",
    "        test_reshaped = test_scaled[:,0:-1]\n",
    "        output = model.predict(test_reshaped, batch_size=batch_size)\n",
    "        predictions = list()\n",
    "        for i in range(len(output)):\n",
    "            yhat = output[i,0]\n",
    "            X = test_scaled[i, 0:-1]\n",
    "            # invert scaling\n",
    "            yhat = invert_scale(scaler, X, yhat)\n",
    "            # invert differencing\n",
    "            yhat = inverse_difference(raw_values, yhat, len(test_scaled)+1-i)\n",
    "            # store forecast\n",
    "            predictions.append(yhat)\n",
    "        # report performance\n",
    "        rmse = sqrt(mean_squared_error(raw_values[-12:], predictions))\n",
    "        print('%d) Test RMSE: %.3f' % (r+1, rmse))\n",
    "        error_scores.append(rmse)\n",
    "    return error_scores\n",
    "\n",
    "# load dataset\n",
    "series = read_csv(path, header=0, parse_dates=[0], index_col=0, squeeze=True, date_parser=parser)\n",
    "# experiment\n",
    "repeats = 30\n",
    "results = DataFrame()\n",
    "epochs = 500\n",
    "# vary neurons\n",
    "neurons = [1, 3, 5, 7]\n",
    "\n",
    "for n in neurons:\n",
    "    print(\"Neurons:\", n)\n",
    "    results[str(n)] = experiment(repeats, series, epochs, n, n)\n",
    "    \n",
    "# summarize results\n",
    "print(results.describe())"
   ]
  },
  {
   "cell_type": "code",
   "execution_count": 11,
   "metadata": {},
   "outputs": [
    {
     "data": {
      "text/plain": [
       "<AxesSubplot:>"
      ]
     },
     "execution_count": 11,
     "metadata": {},
     "output_type": "execute_result"
    },
    {
     "data": {
      "image/png": "[encoded data removed]",
      "text/plain": [
       "<Figure size 432x288 with 1 Axes>"
      ]
     },
     "metadata": {
      "needs_background": "light"
     },
     "output_type": "display_data"
    }
   ],
   "source": [
    "results.boxplot()"
   ]
  },
  {
   "cell_type": "markdown",
   "metadata": {},
   "source": [
    "By changing the lag value and experimenting with different amount of neurons (in steps of 2), we were able to observe that a model with a lag and number of neurons in the hidden layer of 5 present the best results.\n",
    "\n",
    "The overall quality of the model predictions is now better, with RMSE values bellow 3000 for the first time."
   ]
  },
  {
   "cell_type": "markdown",
   "metadata": {
    "id": "NaSHbgZk8TVM"
   },
   "source": [
    "Given that, we will perform 10 diagnostic runs with our new chosen model and compare its metrics over time and performance to the ones seen previously."
   ]
  },
  {
   "cell_type": "code",
   "execution_count": 12,
   "metadata": {
    "id": "VwYkpP8M6uXY"
   },
   "outputs": [],
   "source": [
    "# run diagnostic experiments\n",
    "def run():\n",
    "    # config\n",
    "    repeats = 10\n",
    "    n_batch = 2\n",
    "    n_epochs = 500\n",
    "    n_neurons = 5\n",
    "    n_lag = 5\n",
    "    # load dataset\n",
    "    series = read_csv(path, header=0, parse_dates=[0], index_col=0, squeeze=True, date_parser=parser)\n",
    "    # transform data to be stationary\n",
    "    raw_values = series.values\n",
    "    diff_values = difference(raw_values, 1)\n",
    "    # transform data to be supervised learning\n",
    "    supervised = timeseries_to_supervised(diff_values, n_lag)\n",
    "    supervised_values = supervised.values[n_lag:,:]\n",
    "    # split data into train and test-sets\n",
    "    train, test = supervised_values[0:-12], supervised_values[-12:]\n",
    "    # transform the scale of the data\n",
    "    scaler, train_scaled, test_scaled = scale(train, test)\n",
    "    # fit and evaluate model\n",
    "    train_trimmed = train_scaled[2:, :]\n",
    "    # run diagnostic tests\n",
    "    for i in range(repeats):\n",
    "        history = fit(train_trimmed, test_scaled, raw_values, scaler, n_batch, n_epochs, n_neurons)\n",
    "        pyplot.plot(history['train'], color='blue')\n",
    "        pyplot.plot(history['test'], color='orange')\n",
    "        print('%d) TrainRMSE = %f, TestRMSE = %f' % (i, history['train'].iloc[-1], history['test'].iloc[-1]))"
   ]
  },
  {
   "cell_type": "code",
   "execution_count": 14,
   "metadata": {
    "colab": {
     "base_uri": "https://localhost:8080/"
    },
    "id": "3AgDJPOHhWhq",
    "outputId": "de34acd3-f620-4fb7-97b1-cdfe5f7e93cf"
   },
   "outputs": [
    {
     "name": "stdout",
     "output_type": "stream",
     "text": [
      "0) TrainRMSE = 2064.240417, TestRMSE = 2120.277746\n",
      "1) TrainRMSE = 2142.112038, TestRMSE = 2956.463828\n",
      "2) TrainRMSE = 1882.935929, TestRMSE = 2287.801241\n",
      "3) TrainRMSE = 2159.106482, TestRMSE = 3270.032799\n",
      "4) TrainRMSE = 1863.331484, TestRMSE = 3308.289710\n",
      "5) TrainRMSE = 2061.603665, TestRMSE = 2895.163850\n",
      "6) TrainRMSE = 2137.962502, TestRMSE = 2809.984269\n",
      "7) TrainRMSE = 1794.236862, TestRMSE = 2298.174240\n",
      "8) TrainRMSE = 2012.482905, TestRMSE = 2283.791613\n",
      "9) TrainRMSE = 1949.032204, TestRMSE = 2268.214376\n"
     ]
    },
    {
     "data": {
      "image/png": "[encoded data removed]",
      "text/plain": [
       "<Figure size 432x288 with 1 Axes>"
      ]
     },
     "metadata": {
      "needs_background": "light"
     },
     "output_type": "display_data"
    }
   ],
   "source": [
    "run()"
   ]
  },
  {
   "cell_type": "markdown",
   "metadata": {},
   "source": [
    "By looking at the output metrics, we can see that we were able to achieve considerably lower RMSE values. Even though the model needs more epochs to reach its best potential."
   ]
  },
  {
   "cell_type": "markdown",
   "metadata": {
    "id": "ltlLfTuWzDqW"
   },
   "source": [
    "## Persistence model with a moving average of 3\n",
    "\n",
    "We will now use a moving average window of 3 as feature engineering for the Persistance Model previously used in the exercise. "
   ]
  },
  {
   "cell_type": "code",
   "execution_count": 15,
   "metadata": {
    "colab": {
     "base_uri": "https://localhost:8080/"
    },
    "id": "bpKJfaha0NeD",
    "outputId": "c0c5ab5d-3c27-4cd6-d565-fc82d34d70b0"
   },
   "outputs": [
    {
     "name": "stdout",
     "output_type": "stream",
     "text": [
      "           mean      t-1    t+1\n",
      "0           NaN      NaN   6550\n",
      "1           NaN   6550.0   8728\n",
      "2           NaN   8728.0  12026\n",
      "3           NaN  12026.0  14395\n",
      "4   9101.333333  14395.0  14587\n",
      "5  11716.333333  14587.0  13791\n",
      "6  13669.333333  13791.0   9498\n",
      "7  14257.666667   9498.0   8251\n",
      "8  12625.333333   8251.0   7049\n",
      "9  10513.333333   7049.0   9545\n"
     ]
    }
   ],
   "source": [
    "from pandas import read_csv\n",
    "from pandas import DataFrame\n",
    "from pandas import concat\n",
    "series = read_csv(path, header=0, index_col=0)\n",
    "df = DataFrame(series.values)\n",
    "width = 3\n",
    "lag1 = df.shift(1)\n",
    "lag3 = df.shift(width - 1)\n",
    "window = lag3.rolling(window=width)\n",
    "means = window.mean()\n",
    "dataframe = concat([means, lag1, df], axis=1)\n",
    "dataframe.columns = ['mean', 't-1', 't+1']\n",
    "print(dataframe.head(10))"
   ]
  },
  {
   "cell_type": "code",
   "execution_count": 16,
   "metadata": {
    "colab": {
     "base_uri": "https://localhost:8080/"
    },
    "id": "d1AYV8Iq09Y_",
    "outputId": "2c5e74ca-1544-46e3-e577-2b4a6cf1c216"
   },
   "outputs": [
    {
     "name": "stdout",
     "output_type": "stream",
     "text": [
      "predicted=9101.333333, expected=14395.000000\n",
      "predicted=11716.333333, expected=14587.000000\n",
      "predicted=13669.333333, expected=13791.000000\n",
      "predicted=14257.666667, expected=9498.000000\n",
      "predicted=12625.333333, expected=8251.000000\n",
      "predicted=10513.333333, expected=7049.000000\n",
      "predicted=8266.000000, expected=9545.000000\n",
      "predicted=8281.666667, expected=9364.000000\n",
      "predicted=8652.666667, expected=8456.000000\n",
      "predicted=9121.666667, expected=7237.000000\n",
      "predicted=8352.333333, expected=9374.000000\n",
      "predicted=8355.666667, expected=11837.000000\n",
      "predicted=9482.666667, expected=13784.000000\n",
      "predicted=11665.000000, expected=15926.000000\n",
      "predicted=13849.000000, expected=13821.000000\n",
      "predicted=14510.333333, expected=11143.000000\n",
      "predicted=13630.000000, expected=7975.000000\n",
      "predicted=10979.666667, expected=7610.000000\n",
      "predicted=8909.333333, expected=10015.000000\n",
      "predicted=8533.333333, expected=12759.000000\n",
      "predicted=10128.000000, expected=8816.000000\n",
      "predicted=10530.000000, expected=10677.000000\n",
      "predicted=10750.666667, expected=10947.000000\n",
      "predicted=10146.666667, expected=15200.000000\n",
      "predicted=12274.666667, expected=17010.000000\n",
      "predicted=14385.666667, expected=20900.000000\n",
      "predicted=17703.333333, expected=16205.000000\n",
      "predicted=18038.333333, expected=12143.000000\n",
      "predicted=16416.000000, expected=8997.000000\n",
      "predicted=12448.333333, expected=5568.000000\n",
      "predicted=8902.666667, expected=11474.000000\n",
      "predicted=8679.666667, expected=12256.000000\n",
      "predicted=9766.000000, expected=10583.000000\n",
      "predicted=11437.666667, expected=10862.000000\n",
      "predicted=11233.666667, expected=10965.000000\n",
      "predicted=10803.333333, expected=14405.000000\n",
      "predicted=12077.333333, expected=20379.000000\n",
      "predicted=15249.666667, expected=20128.000000\n",
      "predicted=18304.000000, expected=17816.000000\n",
      "predicted=19441.000000, expected=12268.000000\n",
      "predicted=16737.333333, expected=8642.000000\n",
      "predicted=12908.666667, expected=7962.000000\n",
      "predicted=9624.000000, expected=13932.000000\n",
      "predicted=10178.666667, expected=15936.000000\n",
      "predicted=12610.000000, expected=12628.000000\n",
      "predicted=14165.333333, expected=12267.000000\n",
      "predicted=13610.333333, expected=12470.000000\n",
      "predicted=12455.000000, expected=18944.000000\n",
      "predicted=14560.333333, expected=21259.000000\n",
      "predicted=17557.666667, expected=22015.000000\n",
      "predicted=20739.333333, expected=18581.000000\n",
      "predicted=20618.333333, expected=15175.000000\n",
      "predicted=18590.333333, expected=10306.000000\n",
      "predicted=14687.333333, expected=10792.000000\n",
      "predicted=12091.000000, expected=14752.000000\n",
      "predicted=11950.000000, expected=13754.000000\n",
      "predicted=13099.333333, expected=11738.000000\n",
      "predicted=13414.666667, expected=12181.000000\n",
      "predicted=12557.666667, expected=12965.000000\n",
      "predicted=12294.666667, expected=19990.000000\n",
      "predicted=15045.333333, expected=23125.000000\n",
      "predicted=18693.333333, expected=23541.000000\n",
      "predicted=22218.666667, expected=21247.000000\n",
      "predicted=22637.666667, expected=15189.000000\n",
      "predicted=19992.333333, expected=14767.000000\n",
      "predicted=17067.666667, expected=10895.000000\n",
      "predicted=13617.000000, expected=17130.000000\n",
      "predicted=14264.000000, expected=17697.000000\n",
      "predicted=15240.666667, expected=16611.000000\n",
      "predicted=17146.000000, expected=12674.000000\n",
      "predicted=15660.666667, expected=12760.000000\n",
      "predicted=14015.000000, expected=20249.000000\n",
      "predicted=15227.666667, expected=22135.000000\n",
      "predicted=18381.333333, expected=20677.000000\n",
      "predicted=21020.333333, expected=19933.000000\n",
      "predicted=20915.000000, expected=15388.000000\n",
      "predicted=18666.000000, expected=15113.000000\n",
      "predicted=16811.333333, expected=13401.000000\n",
      "predicted=14634.000000, expected=16135.000000\n",
      "predicted=14883.000000, expected=17562.000000\n",
      "predicted=15699.333333, expected=14720.000000\n",
      "predicted=16139.000000, expected=12225.000000\n",
      "predicted=14835.666667, expected=11608.000000\n",
      "predicted=12851.000000, expected=20985.000000\n",
      "predicted=14939.333333, expected=19692.000000\n",
      "predicted=17428.333333, expected=24081.000000\n",
      "predicted=21586.000000, expected=22114.000000\n",
      "predicted=21962.333333, expected=14220.000000\n",
      "predicted=20138.333333, expected=13434.000000\n",
      "predicted=16589.333333, expected=13598.000000\n",
      "predicted=13750.666667, expected=17187.000000\n",
      "predicted=14739.666667, expected=16119.000000\n",
      "predicted=15634.666667, expected=13713.000000\n",
      "predicted=15673.000000, expected=13210.000000\n",
      "predicted=14347.333333, expected=14251.000000\n",
      "predicted=13724.666667, expected=20139.000000\n",
      "predicted=15866.666667, expected=21725.000000\n",
      "predicted=18705.000000, expected=26099.000000\n",
      "predicted=22654.333333, expected=21084.000000\n",
      "predicted=22969.333333, expected=18024.000000\n",
      "predicted=21735.666667, expected=16722.000000\n",
      "predicted=18610.000000, expected=14385.000000\n",
      "predicted=16377.000000, expected=21342.000000\n",
      "predicted=17483.000000, expected=17180.000000\n",
      "predicted=17635.666667, expected=14577.000000\n",
      "Test MSE: 19312681.523\n"
     ]
    }
   ],
   "source": [
    "from pandas import read_csv\n",
    "from numpy import mean\n",
    "from sklearn.metrics import mean_squared_error\n",
    "from matplotlib import pyplot\n",
    "series = read_csv(path, header=0, index_col=0)\n",
    "# prepare situation\n",
    "X = series.values\n",
    "window = 3\n",
    "history = [X[i] for i in range(window)]\n",
    "test = [X[i] for i in range(window, len(X))]\n",
    "predictions = list()\n",
    "# walk forward over time steps in test\n",
    "for t in range(len(test)):\n",
    "    length = len(history)\n",
    "    yhat = mean([history[i] for i in range(length-window,length)])\n",
    "    obs = test[t]\n",
    "    predictions.append(yhat)\n",
    "    history.append(obs)\n",
    "    print('predicted=%f, expected=%f' % (yhat, obs))\n",
    "error = mean_squared_error(test, predictions)\n",
    "print('Test MSE: %.3f' % error)"
   ]
  },
  {
   "cell_type": "code",
   "execution_count": 19,
   "metadata": {},
   "outputs": [
    {
     "name": "stdout",
     "output_type": "stream",
     "text": [
      "Test RMSE: 4394.620\n"
     ]
    }
   ],
   "source": [
    "print('Test RMSE: %.3f' % sqrt(error))"
   ]
  },
  {
   "cell_type": "markdown",
   "metadata": {},
   "source": [
    "It is possible to see that the performance decreases, in comparison to the first baseline model, when using a moving average of 3 times points to make the predictions."
   ]
  },
  {
   "cell_type": "code",
   "execution_count": 27,
   "metadata": {},
   "outputs": [
    {
     "data": {
      "image/png": "[encoded data removed]",
      "text/plain": [
       "<Figure size 432x288 with 1 Axes>"
      ]
     },
     "metadata": {
      "needs_background": "light"
     },
     "output_type": "display_data"
    }
   ],
   "source": [
    "# plot\n",
    "pyplot.plot(test, color='blue')\n",
    "pyplot.plot(predictions, color='red')\n",
    "pyplot.show()"
   ]
  },
  {
   "cell_type": "markdown",
   "metadata": {},
   "source": [
    "## Conclusion"
   ]
  },
  {
   "cell_type": "markdown",
   "metadata": {},
   "source": [
    "By comparing our results with the ones on the previous exercise we can see that the performance on the optized FTLFN is slightly better better than the one achieved using a RNN(LSTM), since were able to obtain RMSE values averaging ~2000 on the optimal model, which is lower than the ~2500 achieved with the RNN using a 12 month window. Despite that, as expected the RNN still performed considerably better than the baseline models.\n",
    "\n",
    "Even though this was the case for this specific exercise and model tuning efforts, it can't be taken as general rule, as both types of models are valuable and have been proven efficient in predicting values from time series data on multiple occasions."
   ]
  }
 ],
 "metadata": {
  "accelerator": "GPU",
  "colab": {
   "collapsed_sections": [],
   "name": "TP10 - Time Series Tutorial.ipynb",
   "provenance": []
  },
  "kernelspec": {
   "display_name": "Python 3",
   "language": "python",
   "name": "python3"
  },
  "language_info": {
   "codemirror_mode": {
    "name": "ipython",
    "version": 3
   },
   "file_extension": ".py",
   "mimetype": "text/x-python",
   "name": "python",
   "nbconvert_exporter": "python",
   "pygments_lexer": "ipython3",
   "version": "3.8.5"
  }
 },
 "nbformat": 4,
 "nbformat_minor": 1
}
