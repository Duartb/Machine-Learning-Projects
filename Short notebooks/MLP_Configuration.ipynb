{
 "cells": [
  {
   "cell_type": "markdown",
   "metadata": {},
   "source": [
    "### Exercise on MLP configuration\n",
    "##### Duarte Balata (46304) Miguel Oliveira (55772)"
   ]
  },
  {
   "cell_type": "markdown",
   "metadata": {},
   "source": [
    "Importing the required packages."
   ]
  },
  {
   "cell_type": "code",
   "execution_count": 1,
   "metadata": {},
   "outputs": [],
   "source": [
    "import warnings\n",
    "warnings.filterwarnings('ignore')\n",
    "\n",
    "from tensorflow.keras.layers import Input, Dense\n",
    "from tensorflow.keras.models import Model\n",
    "from tensorflow.keras.optimizers import SGD\n",
    "from tensorflow.keras.utils import plot_model\n",
    "from tensorflow.keras.layers import concatenate\n",
    "import numpy as np\n",
    "import matplotlib.pyplot as plt"
   ]
  },
  {
   "cell_type": "markdown",
   "metadata": {},
   "source": [
    "### Defining the Architectures\n",
    "\n",
    "Below we are building two different architectures in order to compare both their performance on learning the XOR problem. We defined the function used build the two MLP architectures. In both configurations the models are trained for 10.000 epochs in order to assure convergence.\n",
    "\n",
    "* Model_1 is the MLP with 2 inputs, 2 hidden neurons and 1 output neuron with complete forward connections. \n",
    "* Model_2 is the MLP with 2 inputs, 1 hidden neuron, 1 output neuron and shortcut connections.\n",
    "\n",
    "For Model_2 a concatenation layer for both the input and hidden layers was used for the shortcut connection.\n",
    "\n",
    "Please note, that the activation function and momentum will vary according to the experiments performed as per the task. The architecture can also be understood by it's summary and structure plot that provides a visual representation of the MLP.\n",
    "\n",
    "In addition, the metrics that will be collected to evaluate the performance of our models will be average accuracy and loss and its standard deviation. The Loss is defined by a value that demonstrates a loss for every poor decision, the higher the loss value the worst the model predicted an instance. The loss value in both architecures is the \"mean_squared_error\". This formula calculates the average squared difference between the predicted values by the model and the actual values. "
   ]
  },
  {
   "cell_type": "code",
   "execution_count": 13,
   "metadata": {},
   "outputs": [],
   "source": [
    "def model_1(X, y, hidden_activation=\"sigmoid\", momentum=0, lr=0.1, mod=False):\n",
    "\n",
    "    input_layer = Input(shape=(2,))\n",
    "    hidden_layer = Dense(2, activation=hidden_activation)(input_layer)\n",
    "    output_layer = Dense(1, activation=\"sigmoid\")(hidden_layer)\n",
    "    \n",
    "    model = Model(inputs=input_layer, outputs=output_layer)\n",
    "    model.compile(loss=\"mean_squared_error\", optimizer=SGD(learning_rate=lr, momentum=momentum), metrics=[\"accuracy\"])\n",
    "    history = model.fit(X, y, epochs=10000, batch_size=1, verbose=0)\n",
    "\n",
    "    avg_acc = np.mean(history.history[\"acc\"])\n",
    "    avg_loss = np.mean(history.history[\"loss\"])\n",
    "    std_acc = np.std(history.history[\"acc\"])\n",
    "    std_loss = np.std(history.history[\"loss\"])\n",
    "    \n",
    "    if mod == True:\n",
    "        return model\n",
    "    \n",
    "    return avg_acc, avg_loss, std_acc, std_loss\n",
    "\n",
    "def model_2(X, y, hidden_activation=\"sigmoid\", momentum=0, lr=0.1, mod=False):\n",
    "    input_layer = Input(shape=(2,))\n",
    "    hidden_layer = Dense(1,activation=hidden_activation)(input_layer)\n",
    "    concat = concatenate([input_layer, hidden_layer])\n",
    "    \n",
    "    output_layer = Dense(1, activation='sigmoid')(concat)\n",
    "    model = Model(inputs=input_layer, outputs=output_layer)\n",
    "    model.compile(loss=\"mean_squared_error\", optimizer=SGD(learning_rate=lr, momentum=momentum), metrics=[\"accuracy\"])\n",
    "    history = model.fit(X, y, epochs=10000, batch_size=1, verbose=0)\n",
    "    \n",
    "    avg_acc = np.mean(history.history[\"acc\"])\n",
    "    avg_loss = np.mean(history.history[\"loss\"])\n",
    "    std_acc = np.std(history.history[\"acc\"])\n",
    "    std_loss = np.std(history.history[\"loss\"])\n",
    "    \n",
    "    if mod == True:\n",
    "        return model\n",
    "    \n",
    "    return avg_acc, avg_loss, std_acc, std_loss"
   ]
  },
  {
   "cell_type": "markdown",
   "metadata": {},
   "source": [
    "A function is defined to run each MLP 5 times and get the average accuracy and loss statistics from the runs."
   ]
  },
  {
   "cell_type": "code",
   "execution_count": 3,
   "metadata": {},
   "outputs": [],
   "source": [
    "def run5times(model1, model2):\n",
    "    avg_acc_1_total = 0\n",
    "    avg_acc_2_total = 0\n",
    "    avg_loss_1_total = 0\n",
    "    avg_loss_2_total = 0\n",
    "    std_acc_1_total = 0\n",
    "    std_acc_2_total = 0\n",
    "    std_loss_1_total = 0\n",
    "    std_loss_2_total = 0\n",
    "\n",
    "    for i in range(0,5):\n",
    "        avg_acc_1, avg_loss_1, std_acc_1, std_loss_1 = model1\n",
    "        avg_acc_2, avg_loss_2, std_acc_2, std_loss_2 = model2\n",
    "\n",
    "        avg_acc_1_total += avg_acc_1\n",
    "        avg_acc_2_total += avg_acc_2\n",
    "        avg_loss_1_total += avg_loss_1\n",
    "        avg_loss_2_total += avg_loss_2\n",
    "        std_acc_1_total += std_acc_1\n",
    "        std_acc_2_total += std_acc_2\n",
    "        std_loss_1_total += std_loss_1\n",
    "        std_loss_2_total += std_loss_2\n",
    "\n",
    "    avg_acc_1_mean = round(avg_acc_1_total/5, 2)\n",
    "    avg_acc_2_mean = round(avg_acc_2_total/5, 2)\n",
    "    avg_loss_1_mean = round(avg_loss_1_total/5, 2)\n",
    "    avg_loss_2_mean = round(avg_loss_2_total/5, 2)\n",
    "    std_acc_1_mean = round(std_acc_1_total/5, 2)\n",
    "    std_acc_2_mean = round(std_acc_2_total/5, 2)\n",
    "    std_loss_1_mean = round(std_loss_1_total/5, 2)\n",
    "    std_loss_2_mean = round(std_loss_2_total/5, 2)\n",
    "\n",
    "    print(\"Model 1:\\n\" + \"Average accuracy = \" + str(avg_acc_1_mean) + \" ± \" + str(std_acc_1_mean) + \"\\nAverage loss = \" + str(avg_loss_1_mean) + \" ± \" + str(std_loss_1_mean) + \"\\n\")\n",
    "    print(\"Model 2:\\n\" + \"Average accuracy = \" + str(avg_acc_2_mean) + \" ± \" + str(std_acc_2_mean) + \"\\nAverage loss = \" + str(avg_loss_2_mean) + \" ± \" + str(std_loss_2_mean) + \"\\n\")\n",
    "\n",
    "    return [avg_acc_1_mean, std_acc_1_mean, avg_loss_1_mean, std_loss_1_mean], [avg_acc_2_mean, std_acc_2_mean, avg_loss_2_mean, std_loss_2_mean]\n",
    "    \n",
    "    #print((model_1_A.predict(X)>0.5).astype(\"int32\"), \"\\n\\n\", (model_2_A.predict(X)>0.5).astype(\"int32\"))"
   ]
  },
  {
   "cell_type": "markdown",
   "metadata": {},
   "source": [
    "We then graphically represent the architecure of MLP 1 (2 inputs, 2 hidden neurons and 1 output neuron with complete forward connections)"
   ]
  },
  {
   "cell_type": "code",
   "execution_count": 17,
   "metadata": {},
   "outputs": [
    {
     "data": {
      "image/png": "[encoded data removed]",
      "text/plain": [
       "<IPython.core.display.Image object>"
      ]
     },
     "execution_count": 17,
     "metadata": {},
     "output_type": "execute_result"
    }
   ],
   "source": [
    "model_1_A = model_1(X, y, hidden_activation=\"sigmoid\", mod=True)\n",
    "plot_model(model_1_A, show_shapes=True)"
   ]
  },
  {
   "cell_type": "markdown",
   "metadata": {},
   "source": [
    "Then, we represent the architecure of MLP 2 (2 inputs, 1 hidden neuron, 1 output neuron and shortcut connections)"
   ]
  },
  {
   "cell_type": "code",
   "execution_count": 18,
   "metadata": {},
   "outputs": [
    {
     "data": {
      "image/png": "[encoded data removed]",
      "text/plain": [
       "<IPython.core.display.Image object>"
      ]
     },
     "execution_count": 18,
     "metadata": {},
     "output_type": "execute_result"
    }
   ],
   "source": [
    "model_2_A = model_2(X, y, hidden_activation=\"sigmoid\", mod=True)\n",
    "plot_model(model_2_A, show_shapes=True)"
   ]
  },
  {
   "cell_type": "markdown",
   "metadata": {},
   "source": [
    "#### Next, we run our models 5 times for each of the presented situations and store the obtained statistics."
   ]
  },
  {
   "cell_type": "markdown",
   "metadata": {},
   "source": [
    "## A) \n",
    "Hidden neurons with logistic activation function.\n",
    "\n",
    "Data set with binary values in {0, 1}.\n",
    "\n",
    "Standard backpropagation algorithm."
   ]
  },
  {
   "cell_type": "code",
   "execution_count": 5,
   "metadata": {},
   "outputs": [
    {
     "name": "stdout",
     "output_type": "stream",
     "text": [
      "WARNING:tensorflow:From /home/duartb/anaconda3/lib/python3.7/site-packages/tensorflow/python/ops/init_ops.py:1251: calling VarianceScaling.__init__ (from tensorflow.python.ops.init_ops) with dtype is deprecated and will be removed in a future version.\n",
      "Instructions for updating:\n",
      "Call initializer instance with the dtype argument instead of passing it to the constructor\n",
      "Model 1:\n",
      "Average accuracy = 0.54 ± 0.09\n",
      "Average loss = 0.14 ± 0.03\n",
      "\n",
      "Model 2:\n",
      "Average accuracy = 0.96 ± 0.14\n",
      "Average loss = 0.04 ± 0.07\n",
      "\n"
     ]
    }
   ],
   "source": [
    "X = np.array([[0,0],[0,1],[1,0],[1,1]],\"float32\")\n",
    "y = np.array([[0],[1],[1],[0]],\"float32\")\n",
    "\n",
    "A_1_stats, A_2_stats = run5times(model_1(X, y, hidden_activation=\"sigmoid\"), \n",
    "                                 model_2(X, y, hidden_activation=\"sigmoid\"))"
   ]
  },
  {
   "cell_type": "markdown",
   "metadata": {},
   "source": [
    "## B)\n",
    "\n",
    "Hidden neurons with hyperbolic tangent activation function.\n",
    "\n",
    "Data set with binary values in {-1, 1}.\n",
    "\n",
    "Backpropagation with momentum algorithm."
   ]
  },
  {
   "cell_type": "code",
   "execution_count": 6,
   "metadata": {},
   "outputs": [
    {
     "name": "stdout",
     "output_type": "stream",
     "text": [
      "Model 1:\n",
      "Average accuracy = 0.67 ± 0.12\n",
      "Average loss = 0.13 ± 0.01\n",
      "\n",
      "Model 2:\n",
      "Average accuracy = 1.0 ± 0.02\n",
      "Average loss = 0.0 ± 0.01\n",
      "\n"
     ]
    }
   ],
   "source": [
    "X = np.array([[-1,-1],[-1,1],[1,-1],[1,1]],\"float32\")\n",
    "y = np.array([[0],[1],[1],[0]],\"float32\")\n",
    "\n",
    "B_1_stats, B_2_stats = run5times(model_1(X, y, hidden_activation=\"tanh\", momentum=0.9),\n",
    "                                 model_2(X, y, hidden_activation=\"tanh\", momentum=0.9))"
   ]
  },
  {
   "cell_type": "markdown",
   "metadata": {},
   "source": [
    "## C) \n",
    "\n",
    "Hidden neurons with relu activation function.\n",
    "\n",
    "Data set with binary values in {0, 1}.\n",
    "\n",
    "Standard backpropagation algorithm."
   ]
  },
  {
   "cell_type": "code",
   "execution_count": 7,
   "metadata": {},
   "outputs": [
    {
     "name": "stdout",
     "output_type": "stream",
     "text": [
      "Model 1:\n",
      "Average accuracy = 0.75 ± 0.02\n",
      "Average loss = 0.17 ± 0.01\n",
      "\n",
      "Model 2:\n",
      "Average accuracy = 0.24 ± 0.18\n",
      "Average loss = 0.26 ± 0.0\n",
      "\n"
     ]
    }
   ],
   "source": [
    "X = np.array([[0,0],[0,1],[1,0],[1,1]],\"float32\")\n",
    "y = np.array([[0],[1],[1],[0]],\"float32\")\n",
    "\n",
    "C_1_stats, C_2_stats = run5times(model_1(X, y, hidden_activation=\"relu\"),\n",
    "                                 model_2(X, y, hidden_activation=\"relu\"))"
   ]
  },
  {
   "cell_type": "markdown",
   "metadata": {},
   "source": [
    "## D)\n",
    "\n",
    "Hidden neurons with relu activation function.\n",
    "\n",
    "Data set with binary values in {0, 1}.\n",
    "\n",
    "Backpropagation with momentum algorithm."
   ]
  },
  {
   "cell_type": "code",
   "execution_count": 8,
   "metadata": {},
   "outputs": [
    {
     "name": "stdout",
     "output_type": "stream",
     "text": [
      "Model 1:\n",
      "Average accuracy = 0.75 ± 0.01\n",
      "Average loss = 0.17 ± 0.0\n",
      "\n",
      "Model 2:\n",
      "Average accuracy = 1.0 ± 0.02\n",
      "Average loss = 0.0 ± 0.01\n",
      "\n"
     ]
    }
   ],
   "source": [
    "X = np.array([[0,0],[0,1],[1,0],[1,1]],\"float32\")\n",
    "y = np.array([[0],[1],[1],[0]],\"float32\")\n",
    "\n",
    "D_1_stats, D_2_stats = run5times(model_1(X, y, hidden_activation=\"relu\", momentum=0.9),\n",
    "                                 model_2(X, y, hidden_activation=\"relu\", momentum=0.9))"
   ]
  },
  {
   "cell_type": "markdown",
   "metadata": {},
   "source": [
    "### Statistics\n",
    "\n",
    "We compile the MLP statistics in order to plot the final results."
   ]
  },
  {
   "cell_type": "code",
   "execution_count": 9,
   "metadata": {},
   "outputs": [],
   "source": [
    "model_1_accs_means = [A_1_stats[0],B_1_stats[0],C_1_stats[0],D_1_stats[0]]\n",
    "model_1_accs_std = [A_1_stats[1],B_1_stats[1],C_1_stats[1],D_1_stats[1]]\n",
    "model_1_loss_means = [A_1_stats[2],B_1_stats[2],C_1_stats[2],D_1_stats[2]]\n",
    "model_1_loss_std = [A_1_stats[3],B_1_stats[3],C_1_stats[3],D_1_stats[3]]\n",
    "\n",
    "model_2_accs_means = [A_2_stats[0],B_2_stats[0],C_2_stats[0],D_2_stats[0]]\n",
    "model_2_accs_std = [A_2_stats[1],B_2_stats[1],C_2_stats[1],D_2_stats[1]]\n",
    "model_2_loss_means = [A_2_stats[2],B_2_stats[2],C_2_stats[2],D_2_stats[2]]\n",
    "model_2_loss_std = [A_2_stats[3],B_2_stats[3],C_2_stats[3],D_2_stats[3]]"
   ]
  },
  {
   "cell_type": "markdown",
   "metadata": {},
   "source": [
    "#### Accuracy\n",
    "We plot the obtained average accuracy scores for each situation, using each one of the MLP architectures."
   ]
  },
  {
   "cell_type": "code",
   "execution_count": 19,
   "metadata": {},
   "outputs": [
    {
     "data": {
      "text/plain": [
       "<matplotlib.legend.Legend at 0x7fe11d25eb50>"
      ]
     },
     "execution_count": 19,
     "metadata": {},
     "output_type": "execute_result"
    },
    {
     "data": {
      "image/png": "[encoded data removed]",
      "text/plain": [
       "<Figure size 432x288 with 1 Axes>"
      ]
     },
     "metadata": {
      "needs_background": "light"
     },
     "output_type": "display_data"
    }
   ],
   "source": [
    "labels = [\"A\",\"B\",\"C\",\"D\"]\n",
    "\n",
    "x = np.arange(len(labels))\n",
    "width = 0.3\n",
    "\n",
    "fig, ax = plt.subplots()\n",
    "rects1 = ax.bar(x - width/2, model_1_accs_means, width, label='Model 1', yerr=model_1_accs_std)\n",
    "rects2 = ax.bar(x + width/2, model_2_accs_means, width, label='Model 2', yerr=model_2_accs_std)\n",
    "\n",
    "ax.set_ylabel('Accuracy')\n",
    "ax.set_title('Accuracy score by model for each scenario')\n",
    "ax.set_xticks(x)\n",
    "ax.set_xticklabels(labels)\n",
    "ax.legend()"
   ]
  },
  {
   "cell_type": "markdown",
   "metadata": {},
   "source": [
    "It is possible to noticed that, on average, MLP 2 performs better on situations A, B and D, while MLP 1 only performs better in situation C.\n",
    "\n",
    "For MPL 1 the worst performance is in situation A at 54% - however the remaining performances, while better, are still below 75%. MPL 2 has a low accuracy of 24% for C but in the other situations it's accuracy is very close to 100%. As the standard deviation results are close to 0, we can assume the results to be somewhat consistent in the 5 runs. Overall for both MPL's the best performance was on situation D.\n",
    "\n",
    "It is curious that both situations C and D had such different results for MLP 2 with only one difference amongst them which was the use standard backpropagation (C) versus a backpropgation with momentum algorithm (D). The objective of using momentum is to obtain an improved gradient that accelarates the descend and therefore the learning. In this case, we were able to observe that using momentum improved the accuracy of the results MPL 2 a lot, however it did not have much of an influence on MPL 1.\n",
    "\n"
   ]
  },
  {
   "cell_type": "markdown",
   "metadata": {},
   "source": [
    "#### Loss\n",
    "\n",
    "Finally, we do the same representation for the loss statistic and draw the same results and the previous representation."
   ]
  },
  {
   "cell_type": "code",
   "execution_count": 20,
   "metadata": {},
   "outputs": [
    {
     "data": {
      "text/plain": [
       "<matplotlib.legend.Legend at 0x7fe11cd077d0>"
      ]
     },
     "execution_count": 20,
     "metadata": {},
     "output_type": "execute_result"
    },
    {
     "data": {
      "image/png": "[encoded data removed]",
      "text/plain": [
       "<Figure size 432x288 with 1 Axes>"
      ]
     },
     "metadata": {
      "needs_background": "light"
     },
     "output_type": "display_data"
    }
   ],
   "source": [
    "labels = [\"A\",\"B\",\"C\",\"D\"]\n",
    "\n",
    "x = np.arange(len(labels))\n",
    "width = 0.3\n",
    "\n",
    "fig, ax = plt.subplots()\n",
    "rects1 = ax.bar(x - width/2, model_1_loss_means, width, label='Model 1', yerr=model_1_loss_std)\n",
    "rects2 = ax.bar(x + width/2, model_2_loss_means, width, label='Model 2', yerr=model_2_loss_std)\n",
    "\n",
    "ax.set_ylabel('Loss')\n",
    "ax.set_title('Loss by model for each scenario')\n",
    "ax.set_xticks(x)\n",
    "ax.set_xticklabels(labels)\n",
    "ax.legend()"
   ]
  },
  {
   "cell_type": "markdown",
   "metadata": {},
   "source": [
    "The graph plotted above shows that Loss was generally lower for MPL 2 except for situation C. On situation B and D where momentum was used , the Loss is 0. We can argue that this was due to the fact that with momentum creating a Stocastic Gradient Descend the model with a shortcut connection was able to reach the local global minima faster and thus achieved a lower loss value. For MPL 1 the loss value is higher and more consistent accross all situations."
   ]
  }
 ],
 "metadata": {
  "kernelspec": {
   "display_name": "Python 3",
   "language": "python",
   "name": "python3"
  },
  "language_info": {
   "codemirror_mode": {
    "name": "ipython",
    "version": 3
   },
   "file_extension": ".py",
   "mimetype": "text/x-python",
   "name": "python",
   "nbconvert_exporter": "python",
   "pygments_lexer": "ipython3",
   "version": "3.8.5"
  }
 },
 "nbformat": 4,
 "nbformat_minor": 5
}
